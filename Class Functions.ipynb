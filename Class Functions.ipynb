{
 "cells": [
  {
   "cell_type": "code",
   "execution_count": null,
   "id": "fc7fbf7d",
   "metadata": {},
   "outputs": [],
   "source": [
    "# %load mymath.py\n",
    "def addition(*nums):\n",
    "    \"\"\"\n",
    "    Returns sum of numbers provided.\n",
    "    returns error message if no number is provided\"\"\"\n",
    "    if len(nums)==0:\n",
    "        return \"atleast two arguments required\"\n",
    "    else:\n",
    "        return sum(nums)\n",
    "\n",
    "def exponent(num,exp):\n",
    "    \"\"\"\n",
    "    returns Exponents of provided number\n",
    "    First parameter is numbers.\n",
    "    Second parameter is exponent.\n",
    "    \"\"\"\n",
    "    return num**exp\n",
    "\n",
    "def len(para):\n",
    "    \"\"\"\n",
    "    Return length of paragraph\"\"\"\n",
    "    return len(para)\n",
    "\n",
    "def sent(para):\n",
    "    \"\"\"\n",
    "    Return length of paragraph\"\"\"\n",
    "    a=para.split(\". \")\n",
    "    return len(a)\n",
    "\n",
    "def words(para):\n",
    "    \"\"\"\n",
    "    Return length of paragraph\"\"\"\n",
    "    a=para.split(\" \")\n",
    "    return len(a)\n",
    "\n",
    "def sqr(number):\n",
    "    return number**0.5\n",
    "    \n",
    "\n",
    "\n",
    "def twos_table(arr=range(1,11)):\n",
    "    a=[]\n",
    "    for n in arr:\n",
    "                if n%2==0:\n",
    "                    a.append(n)\n",
    "    return a\n"
   ]
  },
  {
   "cell_type": "code",
   "execution_count": 43,
   "id": "0ad7024a",
   "metadata": {},
   "outputs": [],
   "source": [
    "%run mymath.py"
   ]
  },
  {
   "cell_type": "code",
   "execution_count": 44,
   "id": "08c254cb",
   "metadata": {},
   "outputs": [],
   "source": [
    "import mymath"
   ]
  },
  {
   "cell_type": "code",
   "execution_count": 45,
   "id": "363beabc",
   "metadata": {},
   "outputs": [
    {
     "data": {
      "text/plain": [
       "2"
      ]
     },
     "execution_count": 45,
     "metadata": {},
     "output_type": "execute_result"
    }
   ],
   "source": [
    "mymath.twos_table()"
   ]
  },
  {
   "cell_type": "code",
   "execution_count": 28,
   "id": "b139183b",
   "metadata": {},
   "outputs": [
    {
     "name": "stdout",
     "output_type": "stream",
     "text": [
      "1 2 3 4 5 6 7 8 9 10 11 12 13 14 15 16 17 18 19 20 21 22 23 24 25 26 27 28 29 30 31 32 33 34 35 36 37 38 39 40 41 42 43 44 45 46 47 48 49 50 51 52 53 54 55 56 57 58 59 60 61 62 63 64 65 66 67 68 69 70 71 72 73 74 75 76 77 78 79 80 81 82 83 84 85 86 87 88 89 90 91 92 93 94 95 96 97 98 99 100 "
     ]
    }
   ],
   "source": [
    "for i in range(1,101):\n",
    "    print(i,end=\" \")"
   ]
  },
  {
   "cell_type": "markdown",
   "id": "163a0145",
   "metadata": {},
   "source": [
    "# Object Oreinted Programming (18/July/2022)"
   ]
  },
  {
   "cell_type": "code",
   "execution_count": 32,
   "id": "936b52c1",
   "metadata": {},
   "outputs": [],
   "source": [
    "#If anything is object it must have class\n",
    "#CLass is blueprint\n",
    "#Object have it's features and behaviours"
   ]
  },
  {
   "cell_type": "code",
   "execution_count": 1,
   "id": "29fba8e6",
   "metadata": {},
   "outputs": [],
   "source": [
    "class Students():\n",
    "    #All thevariable are features/Proparacters\n",
    "    roll_no=27142\n",
    "    name='Dildar'\n",
    "    course='AI & DS'\n",
    "    insititue='SMIT'\n",
    "    \n",
    "    \n",
    "    #All the functions are behaviours/actions/methods\n",
    "    def study(self):\n",
    "        print('Student is studying')\n",
    "    def exam(self):\n",
    "        print('Studnet is staking exam')\n",
    "    def fee(self):\n",
    "        print('Student is submitting fee')\n",
    "    \n",
    "    \n",
    "    "
   ]
  },
  {
   "cell_type": "code",
   "execution_count": 10,
   "id": "3cc1abb1",
   "metadata": {},
   "outputs": [],
   "source": [
    "a=Students()"
   ]
  },
  {
   "cell_type": "code",
   "execution_count": 11,
   "id": "eb15bf6d",
   "metadata": {},
   "outputs": [
    {
     "data": {
      "text/plain": [
       "'AI & DS'"
      ]
     },
     "execution_count": 11,
     "metadata": {},
     "output_type": "execute_result"
    }
   ],
   "source": [
    "a.course"
   ]
  },
  {
   "cell_type": "code",
   "execution_count": 12,
   "id": "20c0d94d",
   "metadata": {},
   "outputs": [
    {
     "data": {
      "text/plain": [
       "'Dildar'"
      ]
     },
     "execution_count": 12,
     "metadata": {},
     "output_type": "execute_result"
    }
   ],
   "source": [
    "a.name"
   ]
  },
  {
   "cell_type": "code",
   "execution_count": 13,
   "id": "186aedd3",
   "metadata": {},
   "outputs": [
    {
     "data": {
      "text/plain": [
       "'SMIT'"
      ]
     },
     "execution_count": 13,
     "metadata": {},
     "output_type": "execute_result"
    }
   ],
   "source": [
    "a.insititue"
   ]
  },
  {
   "cell_type": "code",
   "execution_count": 14,
   "id": "30d540a3",
   "metadata": {},
   "outputs": [
    {
     "data": {
      "text/plain": [
       "27142"
      ]
     },
     "execution_count": 14,
     "metadata": {},
     "output_type": "execute_result"
    }
   ],
   "source": [
    "a.roll_no"
   ]
  },
  {
   "cell_type": "code",
   "execution_count": 15,
   "id": "2119e160",
   "metadata": {},
   "outputs": [
    {
     "name": "stdout",
     "output_type": "stream",
     "text": [
      "Student is studying\n"
     ]
    }
   ],
   "source": [
    "a.study()"
   ]
  },
  {
   "cell_type": "code",
   "execution_count": 16,
   "id": "7fdb6d60",
   "metadata": {},
   "outputs": [
    {
     "name": "stdout",
     "output_type": "stream",
     "text": [
      "Studnet is staking exam\n"
     ]
    }
   ],
   "source": [
    "a.exam()"
   ]
  },
  {
   "cell_type": "code",
   "execution_count": 17,
   "id": "3a3bbed1",
   "metadata": {},
   "outputs": [
    {
     "name": "stdout",
     "output_type": "stream",
     "text": [
      "Student is submitting fee\n"
     ]
    }
   ],
   "source": [
    "a.fee()"
   ]
  },
  {
   "cell_type": "code",
   "execution_count": 22,
   "id": "399279c3",
   "metadata": {},
   "outputs": [],
   "source": [
    "class Phone():\n",
    "    model='Oppo Y51 Pro'\n",
    "    ram='32 GB'\n",
    "    rom='512 GB'\n",
    "    launching_year='2022'\n",
    "    \n",
    "    def make_call(self):\n",
    "        print(\"making a call\")\n",
    "        \n",
    "    def make_video(self):\n",
    "        print('Making Videos')\n",
    "        \n",
    "    "
   ]
  },
  {
   "cell_type": "code",
   "execution_count": 23,
   "id": "bd7a4446",
   "metadata": {},
   "outputs": [],
   "source": [
    "d=Phone()"
   ]
  },
  {
   "cell_type": "code",
   "execution_count": 24,
   "id": "e82408f2",
   "metadata": {},
   "outputs": [
    {
     "data": {
      "text/plain": [
       "'Oppo Y51 Pro'"
      ]
     },
     "execution_count": 24,
     "metadata": {},
     "output_type": "execute_result"
    }
   ],
   "source": [
    "d.model"
   ]
  },
  {
   "cell_type": "code",
   "execution_count": 25,
   "id": "249c398d",
   "metadata": {},
   "outputs": [
    {
     "data": {
      "text/plain": [
       "'32 GB'"
      ]
     },
     "execution_count": 25,
     "metadata": {},
     "output_type": "execute_result"
    }
   ],
   "source": [
    "d.ram"
   ]
  },
  {
   "cell_type": "code",
   "execution_count": 26,
   "id": "b301d11a",
   "metadata": {},
   "outputs": [
    {
     "data": {
      "text/plain": [
       "'512 GB'"
      ]
     },
     "execution_count": 26,
     "metadata": {},
     "output_type": "execute_result"
    }
   ],
   "source": [
    "d.rom"
   ]
  },
  {
   "cell_type": "code",
   "execution_count": 27,
   "id": "a0192b00",
   "metadata": {},
   "outputs": [
    {
     "data": {
      "text/plain": [
       "'2022'"
      ]
     },
     "execution_count": 27,
     "metadata": {},
     "output_type": "execute_result"
    }
   ],
   "source": [
    "d.launching_year"
   ]
  },
  {
   "cell_type": "code",
   "execution_count": 28,
   "id": "f51e5fa1",
   "metadata": {},
   "outputs": [
    {
     "name": "stdout",
     "output_type": "stream",
     "text": [
      "making a call\n"
     ]
    }
   ],
   "source": [
    "d.make_call()"
   ]
  },
  {
   "cell_type": "code",
   "execution_count": 29,
   "id": "699ccbf2",
   "metadata": {},
   "outputs": [
    {
     "name": "stdout",
     "output_type": "stream",
     "text": [
      "Making Videos\n"
     ]
    }
   ],
   "source": [
    "d.make_video()"
   ]
  },
  {
   "cell_type": "code",
   "execution_count": 67,
   "id": "19a5bb9f",
   "metadata": {},
   "outputs": [],
   "source": [
    "class Student():\n",
    "    def __init__(self,name,roll_no,course,institute):\n",
    "    \n",
    "        self.name=name\n",
    "        self.roll_no = roll_no\n",
    "        self.course = course\n",
    "        self.institute = institute\n",
    "    \n",
    "    def study(self):\n",
    "            print(f'{self.name} is studying')\n",
    "    def exam(self):\n",
    "            print(f'{self.name} is staking exam')\n",
    "    def fee(self):\n",
    "            print(f'{self.name} is submitting fee')"
   ]
  },
  {
   "cell_type": "code",
   "execution_count": 68,
   "id": "577dd561",
   "metadata": {},
   "outputs": [],
   "source": [
    "a=Student('Dildar',27142,'AI & DS','SMIT')"
   ]
  },
  {
   "cell_type": "code",
   "execution_count": 69,
   "id": "e56897d8",
   "metadata": {},
   "outputs": [
    {
     "data": {
      "text/plain": [
       "'Dildar'"
      ]
     },
     "execution_count": 69,
     "metadata": {},
     "output_type": "execute_result"
    }
   ],
   "source": [
    "a.name"
   ]
  },
  {
   "cell_type": "code",
   "execution_count": 70,
   "id": "a641e887",
   "metadata": {},
   "outputs": [
    {
     "data": {
      "text/plain": [
       "'AI & DS'"
      ]
     },
     "execution_count": 70,
     "metadata": {},
     "output_type": "execute_result"
    }
   ],
   "source": [
    "a.course"
   ]
  },
  {
   "cell_type": "code",
   "execution_count": 71,
   "id": "f8aadb1c",
   "metadata": {},
   "outputs": [
    {
     "data": {
      "text/plain": [
       "27142"
      ]
     },
     "execution_count": 71,
     "metadata": {},
     "output_type": "execute_result"
    }
   ],
   "source": [
    "a.roll_no"
   ]
  },
  {
   "cell_type": "code",
   "execution_count": 72,
   "id": "77abed94",
   "metadata": {},
   "outputs": [
    {
     "data": {
      "text/plain": [
       "'AI & DS'"
      ]
     },
     "execution_count": 72,
     "metadata": {},
     "output_type": "execute_result"
    }
   ],
   "source": [
    "a.course"
   ]
  },
  {
   "cell_type": "code",
   "execution_count": 73,
   "id": "02f010e7",
   "metadata": {},
   "outputs": [
    {
     "name": "stdout",
     "output_type": "stream",
     "text": [
      "Dildar is staking exam\n"
     ]
    }
   ],
   "source": [
    "a.exam()"
   ]
  },
  {
   "cell_type": "code",
   "execution_count": 74,
   "id": "2262ee2c",
   "metadata": {},
   "outputs": [],
   "source": [
    "b=Student('Bilal',2000,'EE','Saylani')"
   ]
  },
  {
   "cell_type": "code",
   "execution_count": 75,
   "id": "d5b34cd2",
   "metadata": {},
   "outputs": [
    {
     "data": {
      "text/plain": [
       "'Bilal'"
      ]
     },
     "execution_count": 75,
     "metadata": {},
     "output_type": "execute_result"
    }
   ],
   "source": [
    "b.name"
   ]
  },
  {
   "cell_type": "code",
   "execution_count": 76,
   "id": "766edc3c",
   "metadata": {},
   "outputs": [
    {
     "data": {
      "text/plain": [
       "2000"
      ]
     },
     "execution_count": 76,
     "metadata": {},
     "output_type": "execute_result"
    }
   ],
   "source": [
    "b.roll_no"
   ]
  },
  {
   "cell_type": "code",
   "execution_count": 77,
   "id": "88cf2ee5",
   "metadata": {},
   "outputs": [
    {
     "name": "stdout",
     "output_type": "stream",
     "text": [
      "Bilal is staking exam\n"
     ]
    }
   ],
   "source": [
    "b.exam()"
   ]
  },
  {
   "cell_type": "code",
   "execution_count": 78,
   "id": "1ca74658",
   "metadata": {},
   "outputs": [
    {
     "name": "stdout",
     "output_type": "stream",
     "text": [
      "Bilal is submitting fee\n"
     ]
    }
   ],
   "source": [
    "b.fee()"
   ]
  },
  {
   "cell_type": "code",
   "execution_count": 79,
   "id": "c689c562",
   "metadata": {},
   "outputs": [
    {
     "name": "stdout",
     "output_type": "stream",
     "text": [
      "Dildar is submitting fee\n"
     ]
    }
   ],
   "source": [
    "a.fee()"
   ]
  },
  {
   "cell_type": "code",
   "execution_count": 115,
   "id": "2f03f12e",
   "metadata": {},
   "outputs": [],
   "source": [
    "class Phone():\n",
    "    def __init__(self,model_name,ram,rom,price):\n",
    "        self.model_name = model_name\n",
    "        self.ram = ram\n",
    "        self.rom = rom\n",
    "        self.price = price\n",
    "        \n",
    "    def make_call(self):\n",
    "        print(f\"{self.model_name} is making a call\")\n",
    "        \n",
    "    def play_video(self):\n",
    "        print(f'{self.model_name} is playing video')\n",
    "        \n",
    "    def open_app(self):\n",
    "        print(f\"{self.model_name} is opening an application\")"
   ]
  },
  {
   "cell_type": "code",
   "execution_count": 116,
   "id": "8b8256db",
   "metadata": {},
   "outputs": [],
   "source": [
    "i = Phone('OPPO Y51 Pro','32 GB','512 GB',75000)"
   ]
  },
  {
   "cell_type": "code",
   "execution_count": 117,
   "id": "86a32ba0",
   "metadata": {},
   "outputs": [],
   "source": [
    "j = Phone('Realme 50i','6 GB','128 GB',40000)"
   ]
  },
  {
   "cell_type": "code",
   "execution_count": 118,
   "id": "f6a46a87",
   "metadata": {},
   "outputs": [],
   "source": [
    "k= Phone('Infinix Note 12 Pro','8 GB','256 GB',30000)"
   ]
  },
  {
   "cell_type": "code",
   "execution_count": 119,
   "id": "b390032e",
   "metadata": {},
   "outputs": [
    {
     "data": {
      "text/plain": [
       "'OPPO Y51 Pro'"
      ]
     },
     "execution_count": 119,
     "metadata": {},
     "output_type": "execute_result"
    }
   ],
   "source": [
    "i.model_name"
   ]
  },
  {
   "cell_type": "code",
   "execution_count": 100,
   "id": "e85cf415",
   "metadata": {},
   "outputs": [
    {
     "data": {
      "text/plain": [
       "'Realme 50i'"
      ]
     },
     "execution_count": 100,
     "metadata": {},
     "output_type": "execute_result"
    }
   ],
   "source": [
    "j.model_name"
   ]
  },
  {
   "cell_type": "code",
   "execution_count": 101,
   "id": "330e9ce8",
   "metadata": {},
   "outputs": [
    {
     "data": {
      "text/plain": [
       "'Infinix Note 12 Pro'"
      ]
     },
     "execution_count": 101,
     "metadata": {},
     "output_type": "execute_result"
    }
   ],
   "source": [
    "k.model_name"
   ]
  },
  {
   "cell_type": "code",
   "execution_count": 102,
   "id": "58e3d26f",
   "metadata": {},
   "outputs": [
    {
     "data": {
      "text/plain": [
       "'32 GB'"
      ]
     },
     "execution_count": 102,
     "metadata": {},
     "output_type": "execute_result"
    }
   ],
   "source": [
    "i.ram"
   ]
  },
  {
   "cell_type": "code",
   "execution_count": 103,
   "id": "d9f39148",
   "metadata": {},
   "outputs": [
    {
     "data": {
      "text/plain": [
       "'6 GB'"
      ]
     },
     "execution_count": 103,
     "metadata": {},
     "output_type": "execute_result"
    }
   ],
   "source": [
    "j.ram"
   ]
  },
  {
   "cell_type": "code",
   "execution_count": 104,
   "id": "9a21b58f",
   "metadata": {},
   "outputs": [
    {
     "data": {
      "text/plain": [
       "'8 GB'"
      ]
     },
     "execution_count": 104,
     "metadata": {},
     "output_type": "execute_result"
    }
   ],
   "source": [
    "k.ram"
   ]
  },
  {
   "cell_type": "code",
   "execution_count": 105,
   "id": "faf553b6",
   "metadata": {},
   "outputs": [
    {
     "data": {
      "text/plain": [
       "'512 GB'"
      ]
     },
     "execution_count": 105,
     "metadata": {},
     "output_type": "execute_result"
    }
   ],
   "source": [
    "i.rom"
   ]
  },
  {
   "cell_type": "code",
   "execution_count": 106,
   "id": "3165452e",
   "metadata": {},
   "outputs": [
    {
     "data": {
      "text/plain": [
       "'128 GB'"
      ]
     },
     "execution_count": 106,
     "metadata": {},
     "output_type": "execute_result"
    }
   ],
   "source": [
    "j.rom"
   ]
  },
  {
   "cell_type": "code",
   "execution_count": 107,
   "id": "f15f7e88",
   "metadata": {},
   "outputs": [
    {
     "data": {
      "text/plain": [
       "'256 GB'"
      ]
     },
     "execution_count": 107,
     "metadata": {},
     "output_type": "execute_result"
    }
   ],
   "source": [
    "k.rom"
   ]
  },
  {
   "cell_type": "code",
   "execution_count": 108,
   "id": "6d1f08e2",
   "metadata": {},
   "outputs": [
    {
     "data": {
      "text/plain": [
       "75000"
      ]
     },
     "execution_count": 108,
     "metadata": {},
     "output_type": "execute_result"
    }
   ],
   "source": [
    "i.price"
   ]
  },
  {
   "cell_type": "code",
   "execution_count": 109,
   "id": "1981a905",
   "metadata": {},
   "outputs": [
    {
     "data": {
      "text/plain": [
       "30000"
      ]
     },
     "execution_count": 109,
     "metadata": {},
     "output_type": "execute_result"
    }
   ],
   "source": [
    "k.price"
   ]
  },
  {
   "cell_type": "code",
   "execution_count": 110,
   "id": "ce4c65da",
   "metadata": {},
   "outputs": [
    {
     "data": {
      "text/plain": [
       "40000"
      ]
     },
     "execution_count": 110,
     "metadata": {},
     "output_type": "execute_result"
    }
   ],
   "source": [
    "j.price"
   ]
  },
  {
   "cell_type": "code",
   "execution_count": 111,
   "id": "48f79a51",
   "metadata": {},
   "outputs": [
    {
     "name": "stdout",
     "output_type": "stream",
     "text": [
      "OPPO Y51 Pro is making a call\n"
     ]
    }
   ],
   "source": [
    "i.make_call()"
   ]
  },
  {
   "cell_type": "code",
   "execution_count": 112,
   "id": "02c0b7b7",
   "metadata": {},
   "outputs": [
    {
     "name": "stdout",
     "output_type": "stream",
     "text": [
      "Realme 50i is making a call\n"
     ]
    }
   ],
   "source": [
    "j.make_call()"
   ]
  },
  {
   "cell_type": "code",
   "execution_count": 113,
   "id": "0c6fbaa2",
   "metadata": {},
   "outputs": [
    {
     "name": "stdout",
     "output_type": "stream",
     "text": [
      "Infinix Note 12 Pro is making a call\n"
     ]
    }
   ],
   "source": [
    "k.make_call()"
   ]
  },
  {
   "cell_type": "code",
   "execution_count": 120,
   "id": "1fe8348b",
   "metadata": {},
   "outputs": [
    {
     "name": "stdout",
     "output_type": "stream",
     "text": [
      "OPPO Y51 Pro is opening an application\n"
     ]
    }
   ],
   "source": [
    "i.open_app()"
   ]
  },
  {
   "cell_type": "code",
   "execution_count": 121,
   "id": "8558471f",
   "metadata": {},
   "outputs": [
    {
     "name": "stdout",
     "output_type": "stream",
     "text": [
      "Infinix Note 12 Pro is opening an application\n"
     ]
    }
   ],
   "source": [
    "k.open_app()"
   ]
  },
  {
   "cell_type": "code",
   "execution_count": 122,
   "id": "7f186b4f",
   "metadata": {},
   "outputs": [
    {
     "name": "stdout",
     "output_type": "stream",
     "text": [
      "Realme 50i is opening an application\n"
     ]
    }
   ],
   "source": [
    "j.open_app()"
   ]
  },
  {
   "cell_type": "code",
   "execution_count": 123,
   "id": "9d6f4fd2",
   "metadata": {},
   "outputs": [
    {
     "name": "stdout",
     "output_type": "stream",
     "text": [
      "OPPO Y51 Pro is playing video\n"
     ]
    }
   ],
   "source": [
    "i.play_video()"
   ]
  },
  {
   "cell_type": "code",
   "execution_count": 124,
   "id": "121d3806",
   "metadata": {},
   "outputs": [
    {
     "name": "stdout",
     "output_type": "stream",
     "text": [
      "Realme 50i is playing video\n"
     ]
    }
   ],
   "source": [
    "j.play_video()"
   ]
  },
  {
   "cell_type": "code",
   "execution_count": 125,
   "id": "71b1ea5f",
   "metadata": {},
   "outputs": [
    {
     "name": "stdout",
     "output_type": "stream",
     "text": [
      "Infinix Note 12 Pro is playing video\n"
     ]
    }
   ],
   "source": [
    "k.play_video()"
   ]
  },
  {
   "cell_type": "code",
   "execution_count": null,
   "id": "5efbd136",
   "metadata": {},
   "outputs": [],
   "source": []
  }
 ],
 "metadata": {
  "kernelspec": {
   "display_name": "Python 3 (ipykernel)",
   "language": "python",
   "name": "python3"
  },
  "language_info": {
   "codemirror_mode": {
    "name": "ipython",
    "version": 3
   },
   "file_extension": ".py",
   "mimetype": "text/x-python",
   "name": "python",
   "nbconvert_exporter": "python",
   "pygments_lexer": "ipython3",
   "version": "3.9.7"
  }
 },
 "nbformat": 4,
 "nbformat_minor": 5
}
